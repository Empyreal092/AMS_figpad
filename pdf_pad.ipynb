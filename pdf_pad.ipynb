{
 "cells": [
  {
   "cell_type": "code",
   "execution_count": 1,
   "id": "eba18177-89c9-4457-8c3a-743345966dde",
   "metadata": {},
   "outputs": [],
   "source": [
    "import pymupdf\n",
    "from svgutils.compose import *"
   ]
  },
  {
   "cell_type": "code",
   "execution_count": null,
   "id": "ab176e06-5e12-40e1-89aa-b04b91288f4f",
   "metadata": {},
   "outputs": [],
   "source": [
    "image_name = \"pdf_eg\"\n",
    "new_widthinches = 6.5 #inches\n",
    "new_widthcm = new_widthinches*2.54"
   ]
  },
  {
   "cell_type": "code",
   "execution_count": 3,
   "id": "17191e65-9494-4e62-9aab-52843fa3fd04",
   "metadata": {},
   "outputs": [],
   "source": [
    "old_name = \"old_figs/\"+image_name+\".pdf\"\n",
    "svg_name = \"svg_figs/\"+image_name+\".svg\"\n",
    "snw_name = \"snw_figs/\"+image_name+\".svg\"\n",
    "new_name = \"new_figs/\"+image_name+\".pdf\""
   ]
  },
  {
   "cell_type": "code",
   "execution_count": 4,
   "id": "a469ec29-dfa1-4e65-b824-d60e391878c7",
   "metadata": {},
   "outputs": [],
   "source": [
    "doc = pymupdf.open(old_name)\n",
    "page = doc[0]\n",
    "\n",
    "heightcm = page.rect.height/72*2.54\n",
    "widthcm = page.rect.width/72*2.54\n",
    "\n",
    "# Convert page to SVG\n",
    "svg_content = page.get_svg_image()\n",
    "\n",
    "# Save to file\n",
    "with open(svg_name, \"w\", encoding=\"utf-8\") as f:\n",
    "    f.write(svg_content)\n",
    "\n",
    "doc.close()"
   ]
  },
  {
   "cell_type": "code",
   "execution_count": 5,
   "id": "fb02b6b7-8c7b-4952-bbdc-0fffa804f622",
   "metadata": {},
   "outputs": [],
   "source": [
    "padpx = round( (new_widthcm-widthcm)/2/2.54*72 )"
   ]
  },
  {
   "cell_type": "code",
   "execution_count": 6,
   "id": "6ce1f4e8-108f-4446-958b-a3acb8bd5b09",
   "metadata": {},
   "outputs": [],
   "source": [
    "from svgutils.compose import *\n",
    "\n",
    "svg1 = SVG(svg_name)\n",
    "\n",
    "Figure(\n",
    "    new_widthcm/2.54*72,\n",
    "    svg1.height,\n",
    "    Panel(svg1).move(padpx, 0),\n",
    ").save(svg_name)"
   ]
  },
  {
   "cell_type": "markdown",
   "id": "a0e25c61-e6b2-4efc-b2e7-35c92fe223e6",
   "metadata": {},
   "source": [
    "Now go to folder `svg_figs` and run the shell script `svg_to_pdf.sh`. That will convert all the `.svg` file to `.pdf` and put them in the `new_figs` folder."
   ]
  }
 ],
 "metadata": {
  "kernelspec": {
   "display_name": "Python 3 (ipykernel)",
   "language": "python",
   "name": "python3"
  },
  "language_info": {
   "codemirror_mode": {
    "name": "ipython",
    "version": 3
   },
   "file_extension": ".py",
   "mimetype": "text/x-python",
   "name": "python",
   "nbconvert_exporter": "python",
   "pygments_lexer": "ipython3",
   "version": "3.13.5"
  }
 },
 "nbformat": 4,
 "nbformat_minor": 5
}
