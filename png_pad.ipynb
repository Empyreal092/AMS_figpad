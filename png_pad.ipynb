{
 "cells": [
  {
   "cell_type": "code",
   "execution_count": 1,
   "id": "ace71f1e-8edc-4622-945b-701e398d392e",
   "metadata": {},
   "outputs": [],
   "source": [
    "from matplotlib import pyplot as plt\n",
    "from PIL import Image"
   ]
  },
  {
   "cell_type": "code",
   "execution_count": 2,
   "id": "b1c58c13-95c3-4145-84bc-fd2af1e99635",
   "metadata": {},
   "outputs": [],
   "source": [
    "image_name = \"png_eg\"\n",
    "old_name = \"old_figs/\"+image_name+\".png\""
   ]
  },
  {
   "cell_type": "code",
   "execution_count": 3,
   "id": "044c233d-45c0-40ff-82cd-07e0dabcff0b",
   "metadata": {},
   "outputs": [],
   "source": [
    "target_width = 6.5 #inches"
   ]
  },
  {
   "cell_type": "code",
   "execution_count": 4,
   "id": "5cb1c2a3-474a-40f2-8b22-98b58bfe4f1a",
   "metadata": {},
   "outputs": [],
   "source": [
    "im = Image.open(old_name)\n",
    "dpi = round(im.info['dpi'][0])"
   ]
  },
  {
   "cell_type": "code",
   "execution_count": 5,
   "id": "3bdbde31-8b9d-4341-8e73-66b7400946ba",
   "metadata": {},
   "outputs": [
    {
     "name": "stdout",
     "output_type": "stream",
     "text": [
      "(4640, 2249)\n"
     ]
    }
   ],
   "source": [
    "print(im.size)\n",
    "wp, hp = im.size\n",
    "wi = wp/dpi"
   ]
  },
  {
   "cell_type": "code",
   "execution_count": 6,
   "id": "883a94b5-cbdb-489d-a845-a7421ace1653",
   "metadata": {},
   "outputs": [],
   "source": [
    "wpad = round((target_width-wi)/2*dpi)"
   ]
  },
  {
   "cell_type": "code",
   "execution_count": 7,
   "id": "900db10e-fff5-4cac-acc5-924026b5af8c",
   "metadata": {},
   "outputs": [],
   "source": [
    "result = Image.new(im.mode, (round(target_width*dpi), hp), (256,256,256))\n",
    "result.paste(im, (wpad, 0))"
   ]
  },
  {
   "cell_type": "code",
   "execution_count": 8,
   "id": "cf3db778-f4cd-429c-a4eb-c8c0e6a1552d",
   "metadata": {},
   "outputs": [
    {
     "name": "stdout",
     "output_type": "stream",
     "text": [
      "(5200, 2249)\n"
     ]
    }
   ],
   "source": [
    "print(result.size)"
   ]
  },
  {
   "cell_type": "code",
   "execution_count": 9,
   "id": "d970775e-c92f-4456-88d9-8aacbdb17266",
   "metadata": {},
   "outputs": [],
   "source": [
    "# result"
   ]
  },
  {
   "cell_type": "code",
   "execution_count": 10,
   "id": "93055bad-a5ed-4ac3-a078-ccadfd6f2c8e",
   "metadata": {},
   "outputs": [],
   "source": [
    "new_name = \"new_figs/\"+image_name+\".png\"\n",
    "\n",
    "result.save(new_name, dpi=(dpi,dpi))"
   ]
  }
 ],
 "metadata": {
  "kernelspec": {
   "display_name": "Python 3 (ipykernel)",
   "language": "python",
   "name": "python3"
  },
  "language_info": {
   "codemirror_mode": {
    "name": "ipython",
    "version": 3
   },
   "file_extension": ".py",
   "mimetype": "text/x-python",
   "name": "python",
   "nbconvert_exporter": "python",
   "pygments_lexer": "ipython3",
   "version": "3.13.5"
  }
 },
 "nbformat": 4,
 "nbformat_minor": 5
}
